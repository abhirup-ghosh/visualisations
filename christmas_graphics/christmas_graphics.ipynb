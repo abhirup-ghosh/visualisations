{
 "cells": [
  {
   "cell_type": "code",
   "execution_count": 2,
   "metadata": {},
   "outputs": [],
   "source": [
    "import numpy as np\n",
    "import matplotlib.pyplot as plt"
   ]
  },
  {
   "cell_type": "code",
   "execution_count": 14,
   "metadata": {},
   "outputs": [
    {
     "name": "stderr",
     "output_type": "stream",
     "text": [
      "/var/folders/hh/0lf8y4m14h5f5zpkyv95xffh0000gn/T/ipykernel_18089/4008568115.py:49: DeprecationWarning: Starting with ImageIO v3 the behavior of this function will switch to that of iio.v3.imread. To keep the current behavior (and make this warning disappear) use `import imageio.v2 as imageio` or call `imageio.v2.imread` directly.\n",
      "  images.append(imageio.imread(filename))\n"
     ]
    },
    {
     "data": {
      "text/plain": [
       "0"
      ]
     },
     "execution_count": 14,
     "metadata": {},
     "output_type": "execute_result"
    }
   ],
   "source": [
    "x = np.linspace(0, 1, 1000)\n",
    "\n",
    "for idx in range(10):\n",
    "\n",
    "    fig, ax = plt.subplots(figsize=(8,5))\n",
    "    \n",
    "    ax.grid(axis='y')\n",
    "\n",
    "    ax.fill_between(x, 0.8, 1, color='#000814', zorder=1)\n",
    "    ax.fill_between(x, 0.6, 0.8, color='#001d3d', zorder=1)\n",
    "    ax.fill_between(x, 0.4, 0.6, color='#34a0a4', zorder=1)\n",
    "    ax.fill_between(x, 0.2, 0.4, color='#99d98c', zorder=1)\n",
    "    ax.fill_between(x, 0, 0.2, color='#d9ed92', zorder=1)\n",
    "\n",
    "\n",
    "    ax.plot(x[:300], x[:300], color='brown',zorder=10)\n",
    "    ax.fill_between(x[:300], 0, x[:300], color='brown',zorder=10)\n",
    "\n",
    "    ax.plot(x[300:600], 0.6 - x[300:600], color='brown',zorder=10)\n",
    "    ax.fill_between(x[300:600], 0, 0.6 - x[300:600], color='brown',zorder=10)\n",
    "\n",
    "    ax.plot(x[500:750], x[:250], color='olive', zorder=9)\n",
    "    ax.fill_between(x[500:750], 0, x[:250], color='olive', zorder=9)\n",
    "\n",
    "    ax.plot(x[750:], 1 - x[750:], color='olive', zorder=9)\n",
    "    ax.fill_between(x[750:], 0, 1 - x[750:], color='olive', zorder=9)\n",
    "\n",
    "    ax.plot(0.8, 0.6, marker='o', ms=50, color='#ffd60a')\n",
    "\n",
    "    ax.set_xlim([0, 1])\n",
    "    ax.set_ylim([0, 1])\n",
    "\n",
    "    ax.spines.right.set_visible(False)\n",
    "    ax.spines.top.set_visible(False)\n",
    "\n",
    "    ax.scatter(np.random.random(25), (1-0.2*idx) + np.random.random(25), color='white', marker='x')\n",
    "    ax.scatter(np.random.random(25), (1-0.2*idx) + np.random.random(25), color='white')\n",
    "    fig.tight_layout()\n",
    "\n",
    "    fig.savefig(f\"./pic_{idx}.png\", facecolor='white')\n",
    "    plt.close()\n",
    "\n",
    "import imageio\n",
    "import os\n",
    "\n",
    "images = []\n",
    "filenames = [f'./pic_{idx}.png' for idx in range(10)]\n",
    "for filename in filenames:\n",
    "    images.append(imageio.imread(filename))\n",
    "imageio.mimsave(f'./movie.gif', images, duration=1)\n",
    "\n",
    "os.system('rm -r ./pic_*.png')\n"
   ]
  },
  {
   "cell_type": "code",
   "execution_count": null,
   "metadata": {},
   "outputs": [],
   "source": []
  },
  {
   "cell_type": "code",
   "execution_count": null,
   "metadata": {},
   "outputs": [],
   "source": []
  }
 ],
 "metadata": {
  "kernelspec": {
   "display_name": "Python 3.10.4 ('mm22')",
   "language": "python",
   "name": "python3"
  },
  "language_info": {
   "codemirror_mode": {
    "name": "ipython",
    "version": 3
   },
   "file_extension": ".py",
   "mimetype": "text/x-python",
   "name": "python",
   "nbconvert_exporter": "python",
   "pygments_lexer": "ipython3",
   "version": "3.10.4 | packaged by conda-forge | (main, Mar 24 2022, 17:43:32) [Clang 12.0.1 ]"
  },
  "orig_nbformat": 4,
  "vscode": {
   "interpreter": {
    "hash": "444acecdfc38571b3cb1b5a57b79fb59f26deae5b65ba3b977ea33133fd86177"
   }
  }
 },
 "nbformat": 4,
 "nbformat_minor": 2
}
